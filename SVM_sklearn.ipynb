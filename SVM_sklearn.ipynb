{
  "nbformat": 4,
  "nbformat_minor": 0,
  "metadata": {
    "colab": {
      "provenance": []
    },
    "kernelspec": {
      "name": "python3",
      "display_name": "Python 3"
    },
    "language_info": {
      "name": "python"
    }
  },
  "cells": [
    {
      "cell_type": "code",
      "execution_count": null,
      "metadata": {
        "colab": {
          "base_uri": "https://localhost:8080/"
        },
        "id": "t_BZEYyjd8bp",
        "outputId": "2262c3d0-71af-479a-f1ee-630b4e837438"
      },
      "outputs": [
        {
          "output_type": "stream",
          "name": "stdout",
          "text": [
            "1.0\n",
            "0.9777777777777777\n"
          ]
        }
      ],
      "source": [
        "\n",
        "from sklearn import datasets\n",
        "from sklearn.model_selection import train_test_split\n",
        "from sklearn import svm\n",
        "iris = datasets.load_iris()\n",
        "train_data, test_data, train_target, test_target = train_test_split(iris.data, iris.target, test_size = 0.3, random_state = 0)\n",
        "\n",
        "clf = svm.SVC(kernel='poly' ,gamma='auto',C=100)\n",
        "clf.fit(train_data, train_target)\n",
        "print(clf.score(train_data, train_target))\n",
        "print(clf.score(test_data, test_target))\n"
      ]
    }
  ]
}
